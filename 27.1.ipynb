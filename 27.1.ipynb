{
 "cells": [
  {
   "cell_type": "markdown",
   "id": "309431bb",
   "metadata": {},
   "source": [
    "### Finding the constants C1 and C2"
   ]
  },
  {
   "cell_type": "code",
   "execution_count": 7,
   "id": "5456f104",
   "metadata": {
    "scrolled": false
   },
   "outputs": [
    {
     "data": {
      "text/plain": [
       "{C1: 3.01694393308884, C2: 236.983056066911}"
      ]
     },
     "execution_count": 7,
     "metadata": {},
     "output_type": "execute_result"
    }
   ],
   "source": [
    "# Given values\n",
    "T0 = 240  # T(0) = 240\n",
    "T10 = 150  # T(10) = 150\n",
    "sqrt_015 = sqrt(0.15)\n",
    "\n",
    "# Equations based on boundary conditions\n",
    "eq1 = C1 + C2 - T0\n",
    "eq2 = C1 * exp(sqrt_015 * 10) + C2 * exp(-sqrt_015 * 10) - T10\n",
    "\n",
    "# Solve the equations for C1 and C2\n",
    "constants_solved = solve((eq1, eq2), (C1, C2))\n",
    "\n",
    "constants_solved"
   ]
  }
 ],
 "metadata": {
  "kernelspec": {
   "display_name": "Python 3 (ipykernel)",
   "language": "python",
   "name": "python3"
  },
  "language_info": {
   "codemirror_mode": {
    "name": "ipython",
    "version": 3
   },
   "file_extension": ".py",
   "mimetype": "text/x-python",
   "name": "python",
   "nbconvert_exporter": "python",
   "pygments_lexer": "ipython3",
   "version": "3.11.5"
  }
 },
 "nbformat": 4,
 "nbformat_minor": 5
}
