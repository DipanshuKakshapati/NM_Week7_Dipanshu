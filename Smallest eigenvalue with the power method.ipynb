{
 "cells": [
  {
   "cell_type": "markdown",
   "id": "ac7bcfbe",
   "metadata": {},
   "source": [
    "### Smallest eigenvalue with the power method"
   ]
  },
  {
   "cell_type": "markdown",
   "id": "28bdab4e",
   "metadata": {},
   "source": [
    "Matrix:\n",
    "\n",
    "    [0.422, 0.281, 0.141]\n",
    "    [0.281, 0.562, 0.281]\n",
    "    [0.141, 0.281, 0.422]"
   ]
  },
  {
   "cell_type": "code",
   "execution_count": 1,
   "id": "1d0f62f9",
   "metadata": {},
   "outputs": [
    {
     "name": "stdout",
     "output_type": "stream",
     "text": [
      "The smallest eigenvalue for the matrix A is approximately: 6.05672702263582\n",
      "An eigenvector corresponding to this eigenvalue for matrix A is: [ 0.49967589 -0.70755148  0.49969481]\n"
     ]
    }
   ],
   "source": [
    "import numpy as np\n",
    "\n",
    "def power_method_inv(A, tol=1e-10, max_iterations=1000):\n",
    "    n, m = A.shape\n",
    "    if n != m:\n",
    "        raise ValueError(\"Matrix A must be square\")\n",
    "    \n",
    "    # Start with a random vector\n",
    "    x = np.random.rand(n)\n",
    "    \n",
    "    # Normalize the initial vector\n",
    "    x = x / np.linalg.norm(x)\n",
    "    \n",
    "    # Inverse iteration\n",
    "    for _ in range(max_iterations):\n",
    "        # Solve the system A*x = y for x\n",
    "        y = np.linalg.solve(A, x)\n",
    "        \n",
    "        # Normalize y to get the next eigenvector approximation\n",
    "        x_next = y / np.linalg.norm(y)\n",
    "        \n",
    "        # Check for convergence\n",
    "        if np.allclose(x, x_next, atol=tol):\n",
    "            break\n",
    "        \n",
    "        x = x_next\n",
    "\n",
    "    # Compute the Rayleigh quotient as an approximation of the eigenvalue\n",
    "    eigenvalue = np.dot(x, np.dot(A, x)) / np.dot(x, x)\n",
    "    \n",
    "    return 1 / eigenvalue, x\n",
    "\n",
    "# The inverse matrix\n",
    "A_inv = np.array([\n",
    "    [0.422, 0.281, 0.141],\n",
    "    [0.281, 0.562, 0.281],\n",
    "    [0.141, 0.281, 0.422]\n",
    "])\n",
    "\n",
    "# Apply the power method to the provided matrix A_inv\n",
    "smallest_eigenvalue, eigenvector = power_method_inv(A_inv)\n",
    "print(f\"The smallest eigenvalue for the matrix A is approximately: {smallest_eigenvalue}\")\n",
    "print(f\"An eigenvector corresponding to this eigenvalue for matrix A is: {eigenvector}\")\n"
   ]
  },
  {
   "cell_type": "code",
   "execution_count": null,
   "id": "3de317f3",
   "metadata": {},
   "outputs": [],
   "source": []
  }
 ],
 "metadata": {
  "kernelspec": {
   "display_name": "Python 3 (ipykernel)",
   "language": "python",
   "name": "python3"
  },
  "language_info": {
   "codemirror_mode": {
    "name": "ipython",
    "version": 3
   },
   "file_extension": ".py",
   "mimetype": "text/x-python",
   "name": "python",
   "nbconvert_exporter": "python",
   "pygments_lexer": "ipython3",
   "version": "3.11.5"
  }
 },
 "nbformat": 4,
 "nbformat_minor": 5
}
